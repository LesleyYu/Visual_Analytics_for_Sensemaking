{
 "cells": [
  {
   "cell_type": "code",
   "execution_count": 1,
   "metadata": {},
   "outputs": [],
   "source": [
    "from urllib.request import urlopen, Request\n",
    "import urllib\n",
    "from html.parser import HTMLParser\n",
    "import json"
   ]
  },
  {
   "cell_type": "code",
   "execution_count": 2,
   "metadata": {},
   "outputs": [
    {
     "name": "stdout",
     "output_type": "stream",
     "text": [
      "1176\n"
     ]
    }
   ],
   "source": [
    "\n",
    "# read all json files to get URLs\n",
    "URLs = []\n",
    "cnt = 0\n",
    "for i in range(26):                # <------- change no. of user data files here\n",
    "    with open('../data/{}.json'.format(i+1)) as openfile:\n",
    "\n",
    "        json_object = json.load(openfile)\n",
    "\n",
    "        # the num of webpages every json file visitd\n",
    "        numPages = len(json_object[\"data\"])\n",
    "        cnt = numPages + cnt\n",
    "\n",
    "        # append all urls into a list `URLs`\n",
    "        # for j in range(len(json_object[\"data\"])):\n",
    "        for j in range(len(json_object[\"data\"])):        # <------- change no. of urls here\n",
    "            URLs.append(json_object[\"data\"][j]['url'])\n",
    "\n",
    "if (cnt == len(URLs)): print(cnt)        # check if all webpages are put into `URLs`\n"
   ]
  }
 ],
 "metadata": {
  "kernelspec": {
   "display_name": "IDS",
   "language": "python",
   "name": "python3"
  },
  "language_info": {
   "codemirror_mode": {
    "name": "ipython",
    "version": 3
   },
   "file_extension": ".py",
   "mimetype": "text/x-python",
   "name": "python",
   "nbconvert_exporter": "python",
   "pygments_lexer": "ipython3",
   "version": "3.9.16"
  },
  "orig_nbformat": 4
 },
 "nbformat": 4,
 "nbformat_minor": 2
}
